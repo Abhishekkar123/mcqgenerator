{
 "cells": [
  {
   "cell_type": "code",
   "execution_count": 1,
   "id": "da6a70a1",
   "metadata": {},
   "outputs": [],
   "source": [
    "import os\n",
    "import json\n",
    "import pandas as pd\n",
    "import traceback"
   ]
  },
  {
   "cell_type": "code",
   "execution_count": 3,
   "id": "632782f2",
   "metadata": {},
   "outputs": [],
   "source": [
    "from langchain.chat_models import ChatOpenAI"
   ]
  },
  {
   "cell_type": "code",
   "execution_count": 6,
   "id": "ad55ddfb",
   "metadata": {},
   "outputs": [
    {
     "name": "stdout",
     "output_type": "stream",
     "text": [
      "None\n"
     ]
    }
   ],
   "source": [
    "KEY=os.getenv('api_key')\n",
    "print(KEY)"
   ]
  },
  {
   "cell_type": "code",
   "execution_count": null,
   "id": "f693f5ab",
   "metadata": {},
   "outputs": [],
   "source": [
    "llm=ChatOpenAI(model=\"mistralai/mistral-7b-instruct:free\",\n",
    "    api_key=key,  # your OpenRouter key\n",
    "    base_url=\"https://openrouter.ai/api/v1\",\n",
    "    temperature=0.5)\n"
   ]
  }
 ],
 "metadata": {
  "kernelspec": {
   "display_name": "env",
   "language": "python",
   "name": "python3"
  },
  "language_info": {
   "codemirror_mode": {
    "name": "ipython",
    "version": 3
   },
   "file_extension": ".py",
   "mimetype": "text/x-python",
   "name": "python",
   "nbconvert_exporter": "python",
   "pygments_lexer": "ipython3",
   "version": "3.8.20"
  }
 },
 "nbformat": 4,
 "nbformat_minor": 5
}
