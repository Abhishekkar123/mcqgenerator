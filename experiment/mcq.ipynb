{
 "cells": [
  {
   "cell_type": "code",
   "execution_count": 1,
   "id": "da6a70a1",
   "metadata": {},
   "outputs": [],
   "source": [
    "import os\n",
    "import json\n",
    "import pandas as pd\n",
    "import traceback"
   ]
  },
  {
   "cell_type": "code",
   "execution_count": 2,
   "id": "632782f2",
   "metadata": {},
   "outputs": [
    {
     "data": {
      "text/plain": [
       "True"
      ]
     },
     "execution_count": 2,
     "metadata": {},
     "output_type": "execute_result"
    }
   ],
   "source": [
    "from langchain.chat_models import ChatOpenAI\n",
    "from dotenv import load_dotenv\n",
    "load_dotenv()"
   ]
  },
  {
   "cell_type": "code",
   "execution_count": 3,
   "id": "ad55ddfb",
   "metadata": {},
   "outputs": [],
   "source": [
    "KEY=os.getenv('api_key')\n",
    "# print(KEY)"
   ]
  },
  {
   "cell_type": "code",
   "execution_count": 4,
   "id": "f693f5ab",
   "metadata": {},
   "outputs": [
    {
     "name": "stderr",
     "output_type": "stream",
     "text": [
      "C:\\Users\\Dell\\AppData\\Local\\Temp\\ipykernel_8712\\2929340663.py:1: LangChainDeprecationWarning: The class `ChatOpenAI` was deprecated in LangChain 0.0.10 and will be removed in 1.0. An updated version of the class exists in the langchain-openai package and should be used instead. To use it run `pip install -U langchain-openai` and import as `from langchain_openai import ChatOpenAI`.\n",
      "  llm=ChatOpenAI(\n"
     ]
    }
   ],
   "source": [
    "llm=ChatOpenAI(\n",
    "    model=\"mistralai/mistral-7b-instruct:free\",\n",
    "    openai_api_key=KEY,  # your OpenRouter key\n",
    "    base_url=\"https://openrouter.ai/api/v1\",\n",
    "    temperature=0.5,)\n"
   ]
  },
  {
   "cell_type": "code",
   "execution_count": 5,
   "id": "58263b4e",
   "metadata": {},
   "outputs": [
    {
     "data": {
      "text/plain": [
       "ChatOpenAI(client=<openai.resources.chat.completions.completions.Completions object at 0x0000024D40EC2A60>, async_client=<openai.resources.chat.completions.completions.AsyncCompletions object at 0x0000024D40EE8280>, model_name='mistralai/mistral-7b-instruct:free', temperature=0.5, openai_api_key='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', openai_api_base='https://openrouter.ai/api/v1', openai_proxy='')"
      ]
     },
     "execution_count": 5,
     "metadata": {},
     "output_type": "execute_result"
    }
   ],
   "source": [
    "llm"
   ]
  },
  {
   "cell_type": "code",
   "execution_count": 6,
   "id": "d818bcbc",
   "metadata": {},
   "outputs": [],
   "source": [
    "from langchain.llms import OpenAI\n",
    "from langchain.chat_models import ChatOpenAI\n",
    "from langchain.prompts import PromptTemplate\n",
    "from langchain.chains import LLMChain\n",
    "from langchain.chains import SequentialChain\n",
    "from langchain.callbacks import get_openai_callback\n",
    "import PyPDF2"
   ]
  },
  {
   "cell_type": "code",
   "execution_count": 7,
   "id": "40abc670",
   "metadata": {},
   "outputs": [],
   "source": [
    "RESPONSE_JSON = {\n",
    "    \"1\": {\n",
    "        \"mcq\": \"multiple choice question\",\n",
    "        \"options\": {\n",
    "            \"a\": \"choice here\",\n",
    "            \"b\": \"choice here\",\n",
    "            \"c\": \"choice here\",\n",
    "            \"d\": \"choice here\",\n",
    "        },\n",
    "        \"correct\": \"correct answer\",\n",
    "    },\n",
    "    \"2\": {\n",
    "        \"mcq\": \"multiple choice question\",\n",
    "        \"options\": {\n",
    "            \"a\": \"choice here\",\n",
    "            \"b\": \"choice here\",\n",
    "            \"c\": \"choice here\",\n",
    "            \"d\": \"choice here\",\n",
    "        },\n",
    "        \"correct\": \"correct answer\",\n",
    "    },\n",
    "    \"3\": {\n",
    "        \"mcq\": \"multiple choice question\",\n",
    "        \"options\": {\n",
    "            \"a\": \"choice here\",\n",
    "            \"b\": \"choice here\",\n",
    "            \"c\": \"choice here\",\n",
    "            \"d\": \"choice here\",\n",
    "        },\n",
    "        \"correct\": \"correct answer\",\n",
    "    },\n",
    "}"
   ]
  },
  {
   "cell_type": "code",
   "execution_count": 8,
   "id": "774d8da9",
   "metadata": {},
   "outputs": [],
   "source": [
    "TEMPLATE=\"\"\"\n",
    "Text:{text}\n",
    "You are an expert MCQ Maker. Given a above text, it is you job to \\\n",
    "create the quiz od {number} multiple choice questions for {subject} student in {tone} tone.\n",
    "Make sure the questions are not repeated and check all the question to be confirming the text as well.\n",
    "Make sure to format your response like RESPONSE_JSON below and use it  as a guide. \\\n",
    "Ensure to make the {number} MCQ's\n",
    "### RESPONSE_JSON\n",
    "{response_json}\n",
    "\n",
    "\n",
    "\"\"\""
   ]
  },
  {
   "cell_type": "code",
   "execution_count": 9,
   "id": "bdd0f159",
   "metadata": {},
   "outputs": [],
   "source": [
    "quiz_generation_prompt=PromptTemplate(\n",
    "    input_variables=[\"text\",\"number\",\"subject\",\"tone\",\"response_json\"],\n",
    "    template=TEMPLATE\n",
    ")"
   ]
  },
  {
   "cell_type": "code",
   "execution_count": 10,
   "id": "225b34b0",
   "metadata": {},
   "outputs": [
    {
     "name": "stderr",
     "output_type": "stream",
     "text": [
      "C:\\Users\\Dell\\AppData\\Local\\Temp\\ipykernel_8712\\3899119271.py:1: LangChainDeprecationWarning: The class `LLMChain` was deprecated in LangChain 0.1.17 and will be removed in 1.0. Use RunnableSequence, e.g., `prompt | llm` instead.\n",
      "  quiz_chain=LLMChain(llm=llm,prompt=quiz_generation_prompt,output_key=\"quiz\",verbose=True)\n"
     ]
    }
   ],
   "source": [
    "quiz_chain=LLMChain(llm=llm,prompt=quiz_generation_prompt,output_key=\"quiz\",verbose=True)"
   ]
  },
  {
   "cell_type": "code",
   "execution_count": 11,
   "id": "59fddcf9",
   "metadata": {},
   "outputs": [],
   "source": [
    "TEMPLATE2=\"\"\"\n",
    "You are an expert english grammarian and writer. Given a Multiple Choice Quiz for {subject} students.\\\n",
    "You need to evaluate the complexity of the question and give a complete analysis of the quiz. Only use at max 50 words for complexity analysis. \n",
    "if the quiz is not at per with the cognitive and analytical abilities of the students,\\\n",
    "update the quiz questions which needs to be changed and change the tone such that it perfectly fits the student abilities\n",
    "Quiz_MCQs:\n",
    "{quiz}\n",
    "\n",
    "Check from an expert English Writer of the above quiz:\n",
    "\"\"\""
   ]
  },
  {
   "cell_type": "code",
   "execution_count": 12,
   "id": "d5745bee",
   "metadata": {},
   "outputs": [],
   "source": [
    "quiz_evaluation_prompt=PromptTemplate(input_variables=['subject','quiz'],template=TEMPLATE)"
   ]
  },
  {
   "cell_type": "code",
   "execution_count": 13,
   "id": "b17a302e",
   "metadata": {},
   "outputs": [],
   "source": [
    "review_chain=LLMChain(llm=llm,prompt=quiz_evaluation_prompt,output_key=\"review\",verbose=True)"
   ]
  },
  {
   "cell_type": "code",
   "execution_count": 14,
   "id": "de987f7a",
   "metadata": {},
   "outputs": [],
   "source": [
    "generate_evaluate_chain=SequentialChain(chains=[quiz_chain,review_chain],input_variables=[\"text\",\"number\",\"subject\",\"tone\",\"response_json\"],output_variables=[\n",
    "\"quiz\",\"review\"],verbose=True)"
   ]
  },
  {
   "cell_type": "code",
   "execution_count": 17,
   "id": "3853b72e",
   "metadata": {},
   "outputs": [
    {
     "data": {
      "text/plain": [
       "SequentialChain(verbose=True, chains=[LLMChain(verbose=True, prompt=PromptTemplate(input_variables=['number', 'response_json', 'subject', 'text', 'tone'], template=\"\\nText:{text}\\nYou are an expert MCQ Maker. Given a above text, it is you job to create the quiz od {number} multiple choice questions for {subject} student in {tone} tone.\\nMake sure the questions are not repeated and check all the question to be confirming the text as well.\\nMake sure to format your response like RESPONSE_JSON below and use it  as a guide. Ensure to make the {number} MCQ's\\n### RESPONSE_JSON\\n{response_json}\\n\\n\\n\"), llm=ChatOpenAI(client=<openai.resources.chat.completions.completions.Completions object at 0x0000024D40EC2A60>, async_client=<openai.resources.chat.completions.completions.AsyncCompletions object at 0x0000024D40EE8280>, model_name='mistralai/mistral-7b-instruct:free', temperature=0.5, openai_api_key='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', openai_api_base='https://openrouter.ai/api/v1', openai_proxy=''), output_key='quiz'), LLMChain(verbose=True, prompt=PromptTemplate(input_variables=['number', 'response_json', 'subject', 'text', 'tone'], template=\"\\nText:{text}\\nYou are an expert MCQ Maker. Given a above text, it is you job to create the quiz od {number} multiple choice questions for {subject} student in {tone} tone.\\nMake sure the questions are not repeated and check all the question to be confirming the text as well.\\nMake sure to format your response like RESPONSE_JSON below and use it  as a guide. Ensure to make the {number} MCQ's\\n### RESPONSE_JSON\\n{response_json}\\n\\n\\n\"), llm=ChatOpenAI(client=<openai.resources.chat.completions.completions.Completions object at 0x0000024D40EC2A60>, async_client=<openai.resources.chat.completions.completions.AsyncCompletions object at 0x0000024D40EE8280>, model_name='mistralai/mistral-7b-instruct:free', temperature=0.5, openai_api_key='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', openai_api_base='https://openrouter.ai/api/v1', openai_proxy=''), output_key='review')], input_variables=['text', 'number', 'subject', 'tone', 'response_json'], output_variables=['quiz', 'review'])"
      ]
     },
     "execution_count": 17,
     "metadata": {},
     "output_type": "execute_result"
    }
   ],
   "source": [
    "generate_evaluate_chain\n",
    "\n"
   ]
  },
  {
   "cell_type": "code",
   "execution_count": 18,
   "id": "0a381eff",
   "metadata": {},
   "outputs": [
    {
     "data": {
      "text/plain": [
       "'C:\\\\Users\\\\Dell\\\\mcqgenai\\\\data.txt'"
      ]
     },
     "execution_count": 18,
     "metadata": {},
     "output_type": "execute_result"
    }
   ],
   "source": [
    "file_path=r\"C:\\Users\\Dell\\mcqgenai\\data.txt\"\n",
    "file_path"
   ]
  },
  {
   "cell_type": "code",
   "execution_count": 19,
   "id": "9d5edc4b",
   "metadata": {},
   "outputs": [],
   "source": [
    "with open(file_path,'r') as file:\n",
    "    TEXT=file.read()"
   ]
  },
  {
   "cell_type": "code",
   "execution_count": 20,
   "id": "3e5e882b",
   "metadata": {},
   "outputs": [
    {
     "name": "stdout",
     "output_type": "stream",
     "text": [
      "The term machine learning was coined in 1959 by Arthur Samuel, an IBM employee and pioneer in the field of computer gaming and artificial intelligence.[6][7] The synonym self-teaching computers was also used in this time period.[8][9]\n",
      "\n",
      "The earliest machine learning program was introduced in the 1950s when Arthur Samuel invented a computer program that calculated the winning chance in checkers for each side, but the history of machine learning roots back to decades of human desire and effort to study human cognitive processes.[10] In 1949, Canadian psychologist Donald Hebb published the book The Organization of Behavior, in which he introduced a theoretical neural structure formed by certain interactions among nerve cells.[11] Hebb's model of neurons interacting with one another set a groundwork for how AIs and machine learning algorithms work under nodes, or artificial neurons used by computers to communicate data.[10] Other researchers who have studied human cognitive systems contributed to the modern machine learning technologies as well, including logician Walter Pitts and Warren McCulloch, who proposed the early mathematical models of neural networks to come up with algorithms that mirror human thought processes.[10]\n",
      "\n",
      "By the early 1960s, an experimental \"learning machine\" with punched tape memory, called Cybertron, had been developed by Raytheon Company to analyse sonar signals, electrocardiograms, and speech patterns using rudimentary reinforcement learning. It was repetitively \"trained\" by a human operator/teacher to recognise patterns and equipped with a \"goof\" button to cause it to reevaluate incorrect decisions.[12] A representative book on research into machine learning during the 1960s was Nilsson's book on Learning Machines, dealing mostly with machine learning for pattern classification.[13] Interest related to pattern recognition continued into the 1970s, as described by Duda and Hart in 1973.[14] In 1981 a report was given on using teaching strategies so that an artificial neural network learns to recognise 40 characters (26 letters, 10 digits, and 4 special symbols) from a computer terminal.[15]\n",
      "\n",
      "Tom M. Mitchell provided a widely quoted, more formal definition of the algorithms studied in the machine learning field: \"A computer program is said to learn from experience E with respect to some class of tasks T and performance measure P if its performance at tasks in T, as measured by P, improves with experience E.\"[16] This definition of the tasks in which machine learning is concerned offers a fundamentally operational definition rather than defining the field in cognitive terms. This follows Alan Turing's proposal in his paper \"Computing Machinery and Intelligence\", in which the question \"Can machines think?\" is replaced with the question \"Can machines do what we (as thinking entities) can do?\".[17]\n",
      "\n",
      "Modern-day machine learning has two objectives. One is to classify data based on models which have been developed; the other purpose is to make predictions for future outcomes based on these models. A hypothetical algorithm specific to classifying data may use computer vision of moles coupled with supervised learning in order to train it to classify the cancerous moles. A machine learning algorithm for stock trading may inform the trader of future potential predictions.[\n"
     ]
    }
   ],
   "source": [
    "print(TEXT)"
   ]
  },
  {
   "cell_type": "code",
   "execution_count": 21,
   "id": "7c8ddead",
   "metadata": {},
   "outputs": [
    {
     "data": {
      "text/plain": [
       "'{\"1\": {\"mcq\": \"multiple choice question\", \"options\": {\"a\": \"choice here\", \"b\": \"choice here\", \"c\": \"choice here\", \"d\": \"choice here\"}, \"correct\": \"correct answer\"}, \"2\": {\"mcq\": \"multiple choice question\", \"options\": {\"a\": \"choice here\", \"b\": \"choice here\", \"c\": \"choice here\", \"d\": \"choice here\"}, \"correct\": \"correct answer\"}, \"3\": {\"mcq\": \"multiple choice question\", \"options\": {\"a\": \"choice here\", \"b\": \"choice here\", \"c\": \"choice here\", \"d\": \"choice here\"}, \"correct\": \"correct answer\"}}'"
      ]
     },
     "execution_count": 21,
     "metadata": {},
     "output_type": "execute_result"
    }
   ],
   "source": [
    "json.dumps(RESPONSE_JSON)"
   ]
  },
  {
   "cell_type": "code",
   "execution_count": 22,
   "id": "122f018d",
   "metadata": {},
   "outputs": [],
   "source": [
    "\n",
    "NUMBER=5\n",
    "SUBJECT=\"data science\"\n",
    "TONE=\"simple\""
   ]
  },
  {
   "cell_type": "code",
   "execution_count": 23,
   "id": "d2b86bfc",
   "metadata": {},
   "outputs": [
    {
     "name": "stderr",
     "output_type": "stream",
     "text": [
      "C:\\Users\\Dell\\AppData\\Local\\Temp\\ipykernel_8712\\3057265675.py:1: LangChainDeprecationWarning: The method `Chain.__call__` was deprecated in langchain 0.1.0 and will be removed in 1.0. Use invoke instead.\n",
      "  response = generate_evaluate_chain(\n",
      "Error in StdOutCallbackHandler.on_chain_start callback: AttributeError(\"'NoneType' object has no attribute 'get'\")\n",
      "Error in StdOutCallbackHandler.on_chain_start callback: AttributeError(\"'NoneType' object has no attribute 'get'\")\n"
     ]
    },
    {
     "name": "stdout",
     "output_type": "stream",
     "text": [
      "Prompt after formatting:\n",
      "\u001b[32;1m\u001b[1;3m\n",
      "Text:The term machine learning was coined in 1959 by Arthur Samuel, an IBM employee and pioneer in the field of computer gaming and artificial intelligence.[6][7] The synonym self-teaching computers was also used in this time period.[8][9]\n",
      "\n",
      "The earliest machine learning program was introduced in the 1950s when Arthur Samuel invented a computer program that calculated the winning chance in checkers for each side, but the history of machine learning roots back to decades of human desire and effort to study human cognitive processes.[10] In 1949, Canadian psychologist Donald Hebb published the book The Organization of Behavior, in which he introduced a theoretical neural structure formed by certain interactions among nerve cells.[11] Hebb's model of neurons interacting with one another set a groundwork for how AIs and machine learning algorithms work under nodes, or artificial neurons used by computers to communicate data.[10] Other researchers who have studied human cognitive systems contributed to the modern machine learning technologies as well, including logician Walter Pitts and Warren McCulloch, who proposed the early mathematical models of neural networks to come up with algorithms that mirror human thought processes.[10]\n",
      "\n",
      "By the early 1960s, an experimental \"learning machine\" with punched tape memory, called Cybertron, had been developed by Raytheon Company to analyse sonar signals, electrocardiograms, and speech patterns using rudimentary reinforcement learning. It was repetitively \"trained\" by a human operator/teacher to recognise patterns and equipped with a \"goof\" button to cause it to reevaluate incorrect decisions.[12] A representative book on research into machine learning during the 1960s was Nilsson's book on Learning Machines, dealing mostly with machine learning for pattern classification.[13] Interest related to pattern recognition continued into the 1970s, as described by Duda and Hart in 1973.[14] In 1981 a report was given on using teaching strategies so that an artificial neural network learns to recognise 40 characters (26 letters, 10 digits, and 4 special symbols) from a computer terminal.[15]\n",
      "\n",
      "Tom M. Mitchell provided a widely quoted, more formal definition of the algorithms studied in the machine learning field: \"A computer program is said to learn from experience E with respect to some class of tasks T and performance measure P if its performance at tasks in T, as measured by P, improves with experience E.\"[16] This definition of the tasks in which machine learning is concerned offers a fundamentally operational definition rather than defining the field in cognitive terms. This follows Alan Turing's proposal in his paper \"Computing Machinery and Intelligence\", in which the question \"Can machines think?\" is replaced with the question \"Can machines do what we (as thinking entities) can do?\".[17]\n",
      "\n",
      "Modern-day machine learning has two objectives. One is to classify data based on models which have been developed; the other purpose is to make predictions for future outcomes based on these models. A hypothetical algorithm specific to classifying data may use computer vision of moles coupled with supervised learning in order to train it to classify the cancerous moles. A machine learning algorithm for stock trading may inform the trader of future potential predictions.[\n",
      "You are an expert MCQ Maker. Given a above text, it is you job to create the quiz od 5 multiple choice questions for data science student in simple tone.\n",
      "Make sure the questions are not repeated and check all the question to be confirming the text as well.\n",
      "Make sure to format your response like RESPONSE_JSON below and use it  as a guide. Ensure to make the 5 MCQ's\n",
      "### RESPONSE_JSON\n",
      "{\"1\": {\"mcq\": \"multiple choice question\", \"options\": {\"a\": \"choice here\", \"b\": \"choice here\", \"c\": \"choice here\", \"d\": \"choice here\"}, \"correct\": \"correct answer\"}, \"2\": {\"mcq\": \"multiple choice question\", \"options\": {\"a\": \"choice here\", \"b\": \"choice here\", \"c\": \"choice here\", \"d\": \"choice here\"}, \"correct\": \"correct answer\"}, \"3\": {\"mcq\": \"multiple choice question\", \"options\": {\"a\": \"choice here\", \"b\": \"choice here\", \"c\": \"choice here\", \"d\": \"choice here\"}, \"correct\": \"correct answer\"}}\n",
      "\n",
      "\n",
      "\u001b[0m\n"
     ]
    },
    {
     "name": "stderr",
     "output_type": "stream",
     "text": [
      "Error in StdOutCallbackHandler.on_chain_start callback: AttributeError(\"'NoneType' object has no attribute 'get'\")\n"
     ]
    },
    {
     "name": "stdout",
     "output_type": "stream",
     "text": [
      "\n",
      "\u001b[1m> Finished chain.\u001b[0m\n",
      "Prompt after formatting:\n",
      "\u001b[32;1m\u001b[1;3m\n",
      "Text:The term machine learning was coined in 1959 by Arthur Samuel, an IBM employee and pioneer in the field of computer gaming and artificial intelligence.[6][7] The synonym self-teaching computers was also used in this time period.[8][9]\n",
      "\n",
      "The earliest machine learning program was introduced in the 1950s when Arthur Samuel invented a computer program that calculated the winning chance in checkers for each side, but the history of machine learning roots back to decades of human desire and effort to study human cognitive processes.[10] In 1949, Canadian psychologist Donald Hebb published the book The Organization of Behavior, in which he introduced a theoretical neural structure formed by certain interactions among nerve cells.[11] Hebb's model of neurons interacting with one another set a groundwork for how AIs and machine learning algorithms work under nodes, or artificial neurons used by computers to communicate data.[10] Other researchers who have studied human cognitive systems contributed to the modern machine learning technologies as well, including logician Walter Pitts and Warren McCulloch, who proposed the early mathematical models of neural networks to come up with algorithms that mirror human thought processes.[10]\n",
      "\n",
      "By the early 1960s, an experimental \"learning machine\" with punched tape memory, called Cybertron, had been developed by Raytheon Company to analyse sonar signals, electrocardiograms, and speech patterns using rudimentary reinforcement learning. It was repetitively \"trained\" by a human operator/teacher to recognise patterns and equipped with a \"goof\" button to cause it to reevaluate incorrect decisions.[12] A representative book on research into machine learning during the 1960s was Nilsson's book on Learning Machines, dealing mostly with machine learning for pattern classification.[13] Interest related to pattern recognition continued into the 1970s, as described by Duda and Hart in 1973.[14] In 1981 a report was given on using teaching strategies so that an artificial neural network learns to recognise 40 characters (26 letters, 10 digits, and 4 special symbols) from a computer terminal.[15]\n",
      "\n",
      "Tom M. Mitchell provided a widely quoted, more formal definition of the algorithms studied in the machine learning field: \"A computer program is said to learn from experience E with respect to some class of tasks T and performance measure P if its performance at tasks in T, as measured by P, improves with experience E.\"[16] This definition of the tasks in which machine learning is concerned offers a fundamentally operational definition rather than defining the field in cognitive terms. This follows Alan Turing's proposal in his paper \"Computing Machinery and Intelligence\", in which the question \"Can machines think?\" is replaced with the question \"Can machines do what we (as thinking entities) can do?\".[17]\n",
      "\n",
      "Modern-day machine learning has two objectives. One is to classify data based on models which have been developed; the other purpose is to make predictions for future outcomes based on these models. A hypothetical algorithm specific to classifying data may use computer vision of moles coupled with supervised learning in order to train it to classify the cancerous moles. A machine learning algorithm for stock trading may inform the trader of future potential predictions.[\n",
      "You are an expert MCQ Maker. Given a above text, it is you job to create the quiz od 5 multiple choice questions for data science student in simple tone.\n",
      "Make sure the questions are not repeated and check all the question to be confirming the text as well.\n",
      "Make sure to format your response like RESPONSE_JSON below and use it  as a guide. Ensure to make the 5 MCQ's\n",
      "### RESPONSE_JSON\n",
      "{\"1\": {\"mcq\": \"multiple choice question\", \"options\": {\"a\": \"choice here\", \"b\": \"choice here\", \"c\": \"choice here\", \"d\": \"choice here\"}, \"correct\": \"correct answer\"}, \"2\": {\"mcq\": \"multiple choice question\", \"options\": {\"a\": \"choice here\", \"b\": \"choice here\", \"c\": \"choice here\", \"d\": \"choice here\"}, \"correct\": \"correct answer\"}, \"3\": {\"mcq\": \"multiple choice question\", \"options\": {\"a\": \"choice here\", \"b\": \"choice here\", \"c\": \"choice here\", \"d\": \"choice here\"}, \"correct\": \"correct answer\"}}\n",
      "\n",
      "\n",
      "\u001b[0m\n",
      "\n",
      "\u001b[1m> Finished chain.\u001b[0m\n",
      "\n",
      "\u001b[1m> Finished chain.\u001b[0m\n"
     ]
    }
   ],
   "source": [
    "response = generate_evaluate_chain(\n",
    "    {\n",
    "        \"text\": TEXT,\n",
    "        \"number\": NUMBER,\n",
    "        \"subject\": SUBJECT,\n",
    "        \"tone\":TONE,\n",
    "        \"response_json\": json.dumps(RESPONSE_JSON)\n",
    "    }\n",
    ")\n"
   ]
  },
  {
   "cell_type": "code",
   "execution_count": 26,
   "id": "2115caa4",
   "metadata": {},
   "outputs": [
    {
     "data": {
      "text/plain": [
       "{'text': 'The term machine learning was coined in 1959 by Arthur Samuel, an IBM employee and pioneer in the field of computer gaming and artificial intelligence.[6][7] The synonym self-teaching computers was also used in this time period.[8][9]\\n\\nThe earliest machine learning program was introduced in the 1950s when Arthur Samuel invented a computer program that calculated the winning chance in checkers for each side, but the history of machine learning roots back to decades of human desire and effort to study human cognitive processes.[10] In 1949, Canadian psychologist Donald Hebb published the book The Organization of Behavior, in which he introduced a theoretical neural structure formed by certain interactions among nerve cells.[11] Hebb\\'s model of neurons interacting with one another set a groundwork for how AIs and machine learning algorithms work under nodes, or artificial neurons used by computers to communicate data.[10] Other researchers who have studied human cognitive systems contributed to the modern machine learning technologies as well, including logician Walter Pitts and Warren McCulloch, who proposed the early mathematical models of neural networks to come up with algorithms that mirror human thought processes.[10]\\n\\nBy the early 1960s, an experimental \"learning machine\" with punched tape memory, called Cybertron, had been developed by Raytheon Company to analyse sonar signals, electrocardiograms, and speech patterns using rudimentary reinforcement learning. It was repetitively \"trained\" by a human operator/teacher to recognise patterns and equipped with a \"goof\" button to cause it to reevaluate incorrect decisions.[12] A representative book on research into machine learning during the 1960s was Nilsson\\'s book on Learning Machines, dealing mostly with machine learning for pattern classification.[13] Interest related to pattern recognition continued into the 1970s, as described by Duda and Hart in 1973.[14] In 1981 a report was given on using teaching strategies so that an artificial neural network learns to recognise 40 characters (26 letters, 10 digits, and 4 special symbols) from a computer terminal.[15]\\n\\nTom M. Mitchell provided a widely quoted, more formal definition of the algorithms studied in the machine learning field: \"A computer program is said to learn from experience E with respect to some class of tasks T and performance measure P if its performance at tasks in T, as measured by P, improves with experience E.\"[16] This definition of the tasks in which machine learning is concerned offers a fundamentally operational definition rather than defining the field in cognitive terms. This follows Alan Turing\\'s proposal in his paper \"Computing Machinery and Intelligence\", in which the question \"Can machines think?\" is replaced with the question \"Can machines do what we (as thinking entities) can do?\".[17]\\n\\nModern-day machine learning has two objectives. One is to classify data based on models which have been developed; the other purpose is to make predictions for future outcomes based on these models. A hypothetical algorithm specific to classifying data may use computer vision of moles coupled with supervised learning in order to train it to classify the cancerous moles. A machine learning algorithm for stock trading may inform the trader of future potential predictions.[',\n",
       " 'number': 5,\n",
       " 'subject': 'data science',\n",
       " 'tone': 'simple',\n",
       " 'response_json': '{\"1\": {\"mcq\": \"multiple choice question\", \"options\": {\"a\": \"choice here\", \"b\": \"choice here\", \"c\": \"choice here\", \"d\": \"choice here\"}, \"correct\": \"correct answer\"}, \"2\": {\"mcq\": \"multiple choice question\", \"options\": {\"a\": \"choice here\", \"b\": \"choice here\", \"c\": \"choice here\", \"d\": \"choice here\"}, \"correct\": \"correct answer\"}, \"3\": {\"mcq\": \"multiple choice question\", \"options\": {\"a\": \"choice here\", \"b\": \"choice here\", \"c\": \"choice here\", \"d\": \"choice here\"}, \"correct\": \"correct answer\"}}',\n",
       " 'quiz': ' ### RESPONSE_JSON\\n{\\n  \"1\": {\\n    \"mcq\": \"Who coined the term \\'machine learning\\' in 1959?\",\\n    \"options\": {\"a\": \"Alan Turing\", \"b\": \"Donald Hebb\", \"c\": \"Arthur Samuel\", \"d\": \"Warren McCulloch\"},\\n    \"correct\": \"c\"\\n  },\\n  \"2\": {\\n    \"mcq\": \"What was the earliest machine learning program introduced in the 1950s?\",\\n    \"options\": {\"a\": \"A computer program for stock trading\", \"b\": \"A computer program for calculating winning chances in checkers\", \"c\": \"A program for analyzing sonar signals\", \"d\": \"A program for recognizing 40 characters from a computer terminal\"},\\n    \"correct\": \"b\"\\n  },\\n  \"3\": {\\n    \"mcq\": \"Which researcher introduced a theoretical neural structure formed by certain interactions among nerve cells in 1949?\",\\n    \"options\": {\"a\": \"Alan Turing\", \"b\": \"Donald Hebb\", \"c\": \"Warren McCulloch\", \"d\": \"Arthur Samuel\"},\\n    \"correct\": \"b\"\\n  },\\n  \"4\": {\\n    \"mcq\": \"Tom M. Mitchell provided a formal definition of the algorithms studied in the machine learning field in the 1980s. According to this definition, what does a computer program learn from experience?\",\\n    \"options\": {\"a\": \"A computer program learns to mimic human emotions\", \"b\": \"A computer program learns to perform tasks that humans can do\", \"c\": \"A computer program learns to improve its performance at tasks based on past experiences\", \"d\": \"A computer program learns to analyze sonar signals\"},\\n    \"correct\": \"c\"\\n  },\\n  \"5\": {\\n    \"mcq\": \"Modern-day machine learning has two main objectives. One is to do what exactly?\",\\n    \"options\": {\"a\": \"Classify data based on models\", \"b\": \"Predict future outcomes based on models\", \"c\": \"Analyze sonar signals\", \"d\": \"Mimic human emotions\"},\\n    \"correct\": \"a\"\\n  }\\n}',\n",
       " 'review': ' ### RESPONSE_JSON\\n{\\n  \"1\": {\\n    \"mcq\": \"Who coined the term \\'machine learning\\' in 1959?\",\\n    \"options\": {\\n      \"a\": \"Stephen Hawking\",\\n      \"b\": \"Alan Turing\",\\n      \"c\": \"Arthur Samuel\",\\n      \"d\": \"Donald Hebb\"\\n    },\\n    \"correct\": \"c\"\\n  },\\n  \"2\": {\\n    \"mcq\": \"What was the earliest machine learning program introduced in the 1950s?\",\\n    \"options\": {\\n      \"a\": \"A computer program for stock trading\",\\n      \"b\": \"A computer program for calculating checkers winning chances\",\\n      \"c\": \"A computer program for analyzing sonar signals\",\\n      \"d\": \"A computer program for recognizing patterns in speech\"\\n    },\\n    \"correct\": \"b\"\\n  },\\n  \"3\": {\\n    \"mcq\": \"What did Donald Hebb introduce in his book \\'The Organization of Behavior\\' in 1949?\",\\n    \"options\": {\\n      \"a\": \"A theoretical model of human cognitive processes\",\\n      \"b\": \"A model of neurons interacting with one another\",\\n      \"c\": \"A model for reinforcement learning\",\\n      \"d\": \"A model for pattern recognition\"\\n    },\\n    \"correct\": \"b\"\\n  },\\n  \"4\": {\\n    \"mcq\": \"What was the representative book on research into machine learning during the 1960s?\",\\n    \"options\": {\\n      \"a\": \"Nilsson\\'s book on Learning Machines\",\\n      \"b\": \"Duda and Hart\\'s book on Pattern Recognition\",\\n      \"c\": \"Tom M. Mitchell\\'s book on Machine Learning\",\\n      \"d\": \"Raytheon Company\\'s book on Cybertron\"\\n    },\\n    \"correct\": \"a\"\\n  },\\n  \"5\": {\\n    \"mcq\": \"According to Tom M. Mitchell, what is the definition of machine learning?\",\\n    \"options\": {\\n      \"a\": \"A machine that can do what humans can do\",\\n      \"b\": \"A machine that can think\",\\n      \"c\": \"A computer program that improves its performance at tasks with experience\",\\n      \"d\": \"A machine that can predict future outcomes\"\\n    },\\n    \"correct\": \"c\"\\n  }\\n}'}"
      ]
     },
     "execution_count": 26,
     "metadata": {},
     "output_type": "execute_result"
    }
   ],
   "source": [
    "response"
   ]
  },
  {
   "cell_type": "code",
   "execution_count": 67,
   "id": "14ab5c27",
   "metadata": {},
   "outputs": [],
   "source": [
    "quiz=response.get(\"quiz\")"
   ]
  },
  {
   "cell_type": "code",
   "execution_count": 68,
   "id": "4a3c756b",
   "metadata": {},
   "outputs": [],
   "source": [
    "quiz_json = quiz.split(\"### RESPONSE_JSON\")[-1].strip()\n",
    "# quiz.split(\"### RESPONSE_JSON\")[-1].strip()\n",
    "quiz=json.loads(quiz_json)"
   ]
  },
  {
   "cell_type": "code",
   "execution_count": 59,
   "id": "4bf8f634",
   "metadata": {},
   "outputs": [],
   "source": [
    "quiz_table_data=[]\n",
    "for key,val in quiz.items():\n",
    "    mcq=val[\"mcq\"]\n",
    "    options=\" | \".join([\n",
    "        f\"{option} : {option_value}\"\n",
    "        for option,option_value in val[\"options\"].items()\n",
    "    ])\n",
    "    correct=val[\"correct\"]\n",
    "    quiz_table_data.append({\"MCQ\":mcq,\"Choices\":options,\"Correct\":correct})\n"
   ]
  },
  {
   "cell_type": "code",
   "execution_count": 71,
   "id": "c0ac741a",
   "metadata": {},
   "outputs": [],
   "source": [
    "quiz=pd.DataFrame(quiz_table_data)"
   ]
  },
  {
   "cell_type": "code",
   "execution_count": 72,
   "id": "05263a53",
   "metadata": {},
   "outputs": [],
   "source": [
    "quiz.to_csv(\"machine_learning.csv\")"
   ]
  },
  {
   "cell_type": "code",
   "execution_count": null,
   "id": "7185c7c9",
   "metadata": {},
   "outputs": [],
   "source": []
  }
 ],
 "metadata": {
  "kernelspec": {
   "display_name": "Python 3",
   "language": "python",
   "name": "python3"
  },
  "language_info": {
   "codemirror_mode": {
    "name": "ipython",
    "version": 3
   },
   "file_extension": ".py",
   "mimetype": "text/x-python",
   "name": "python",
   "nbconvert_exporter": "python",
   "pygments_lexer": "ipython3",
   "version": "3.8.20"
  }
 },
 "nbformat": 4,
 "nbformat_minor": 5
}
